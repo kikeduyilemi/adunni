{
 "cells": [
  {
   "cell_type": "markdown",
   "id": "a39d599b-12f9-4b9b-97ce-9283efffadb6",
   "metadata": {},
   "source": [
    "### headings"
   ]
  },
  {
   "cell_type": "code",
   "execution_count": 86,
   "id": "d2a46441-3ffb-42f7-8d55-8de8418f56a3",
   "metadata": {},
   "outputs": [
    {
     "name": "stdin",
     "output_type": "stream",
     "text": [
      "Enter first_number:  10\n",
      "Enter second_number:  5\n"
     ]
    },
    {
     "name": "stdout",
     "output_type": "stream",
     "text": [
      "15.0\n"
     ]
    }
   ],
   "source": [
    "# Build a simple calculator that performs basic arithmetic operations\n",
    "# Define variables for two numbers and the operation\n",
    "\n",
    "first_number = int(input(\"Enter first_number: \"))\n",
    "\n",
    "second_number = int(input(\"Enter second_number: \"))\n",
    "\n",
    "value = ((first_number + second_number) * (first_number - second_number)/ (second_number))\n",
    "\n",
    "if value < 14:\n",
    "   print (\"True\")\n",
    "else:\n",
    "    print(value)"
   ]
  },
  {
   "cell_type": "code",
   "execution_count": 84,
   "id": "c4682660-dbdb-4a7b-b16c-12b7946b9a31",
   "metadata": {},
   "outputs": [
    {
     "name": "stdin",
     "output_type": "stream",
     "text": [
      "Enter the temperature in celcius:  2.78\n"
     ]
    },
    {
     "name": "stdout",
     "output_type": "stream",
     "text": [
      "The temperature in farenheit is:  37.0\n"
     ]
    }
   ],
   "source": [
    "# Write a python program that converts temperature from celcius to farenheit and viceversa\n",
    "# (c * 1.8) + 32\n",
    "\n",
    "celcius = float(input(\"Enter the temperature in celcius: \"))\n",
    "\n",
    "farenheit = round((celcius * 1.8) + 32,2)\n",
    "\n",
    "if farenheit > 1:\n",
    "   print(\"The temperature in farenheit is: \", farenheit)\n"
   ]
  },
  {
   "cell_type": "code",
   "execution_count": 115,
   "id": "ae3db31d-0202-483d-8fde-367e3c8acff2",
   "metadata": {},
   "outputs": [
    {
     "name": "stdin",
     "output_type": "stream",
     "text": [
      "Enter the temperature in farenheit:  37.0\n"
     ]
    },
    {
     "name": "stdout",
     "output_type": "stream",
     "text": [
      "The temperature in celcius is:  2.78\n"
     ]
    }
   ],
   "source": [
    "#(f-32)/1.8\n",
    "\n",
    "farenheit = float(input(\"Enter the temperature in farenheit: \"))\n",
    "\n",
    "celcius = round((farenheit -32)/ 1.8,2)\n",
    "\n",
    "if celcius == 0:\n",
    "    print(True)\n",
    "else:\n",
    "     print(\"The temperature in celcius is: \",celcius)"
   ]
  },
  {
   "cell_type": "code",
   "execution_count": 118,
   "id": "542de2fa-61e1-4aba-a564-0d07633b9771",
   "metadata": {},
   "outputs": [
    {
     "name": "stdin",
     "output_type": "stream",
     "text": [
      "Enter number:  10\n"
     ]
    },
    {
     "name": "stdout",
     "output_type": "stream",
     "text": [
      "Even\n"
     ]
    }
   ],
   "source": [
    "#create a program that checks whether a number is odd or even\n",
    "\n",
    "number = int(input(\"Enter number: \"))\n",
    "\n",
    "if (number %2 == 0):\n",
    "    print(\"Even\")\n",
    "else:\n",
    "    print(\"odd\")"
   ]
  },
  {
   "cell_type": "code",
   "execution_count": 103,
   "id": "c5e23f4c-fa32-4f33-9b68-19f83e20dd7c",
   "metadata": {},
   "outputs": [
    {
     "name": "stdin",
     "output_type": "stream",
     "text": [
      "Enter number:  21\n"
     ]
    },
    {
     "name": "stdout",
     "output_type": "stream",
     "text": [
      "odd\n"
     ]
    }
   ],
   "source": [
    "number = int(input(\"Enter number: \"))\n",
    "\n",
    "if (number % 2 == 0):\n",
    "    print(\"Even\")\n",
    "else:\n",
    "    print(\"odd\")"
   ]
  }
 ],
 "metadata": {
  "kernelspec": {
   "display_name": "Python 3 (ipykernel)",
   "language": "python",
   "name": "python3"
  },
  "language_info": {
   "codemirror_mode": {
    "name": "ipython",
    "version": 3
   },
   "file_extension": ".py",
   "mimetype": "text/x-python",
   "name": "python",
   "nbconvert_exporter": "python",
   "pygments_lexer": "ipython3",
   "version": "3.12.4"
  }
 },
 "nbformat": 4,
 "nbformat_minor": 5
}
